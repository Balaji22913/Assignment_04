{
 "cells": [
  {
   "cell_type": "markdown",
   "id": "6b6ce8c0-9582-4739-8211-23b0ec223b6a",
   "metadata": {},
   "source": [
    "Q1. Explain the difference between linear regression and logistic regression models. Provide an example of\n",
    "a scenario where logistic regression would be more appropriate."
   ]
  },
  {
   "cell_type": "markdown",
   "id": "ce318fc6-ff61-441a-a213-09375003178e",
   "metadata": {},
   "source": [
    "Linear Regression is used to handle regression problems whereas Logistic regression is used to handle the classification problems. Linear regression provides a continuous output but Logistic regression provides discreet output. Example:- Spam email classification"
   ]
  },
  {
   "cell_type": "code",
   "execution_count": null,
   "id": "c23ef59e-005a-481a-96c4-650f46e72992",
   "metadata": {},
   "outputs": [],
   "source": []
  },
  {
   "cell_type": "markdown",
   "id": "3d6d6a08-1481-407e-9cc9-0df4425ccebb",
   "metadata": {},
   "source": [
    "Q2. What is the cost function used in logistic regression, and how is it optimized?"
   ]
  },
  {
   "cell_type": "markdown",
   "id": "153035af-f959-4fc6-9c08-5ef16b26ade5",
   "metadata": {},
   "source": [
    "The cost function used in Logistic Regression is Log Loss. Logarithmic loss indicates how close a prediction probability comes to the actual/corresponding true value. As a result, it turns out that maximizing the likelihood is equivalent to minimizing the mean square error (MSE), i.e. this error function is widely used in regression problems for a reason."
   ]
  },
  {
   "cell_type": "code",
   "execution_count": null,
   "id": "5ce8f2c7-ec38-4a8f-93d3-16f8c3958cff",
   "metadata": {},
   "outputs": [],
   "source": []
  },
  {
   "cell_type": "markdown",
   "id": "e5c19e27-63d9-4bb1-901d-566a21b21833",
   "metadata": {},
   "source": [
    "Q3. Explain the concept of regularization in logistic regression and how it helps prevent overfitting."
   ]
  },
  {
   "cell_type": "markdown",
   "id": "162f8e22-9c93-4742-b272-e6c9b0d6de78",
   "metadata": {},
   "source": [
    "Regularization is a technique that penalizes the coefficient. In an overfit model, the coefficients are generally inflated. Thus, Regularization adds penalties to the parameters and avoids them weigh heavily. The coefficients are added to the cost function of the linear equation."
   ]
  },
  {
   "cell_type": "code",
   "execution_count": null,
   "id": "a9207b56-4d1e-40e4-8dbb-57457327400e",
   "metadata": {},
   "outputs": [],
   "source": []
  },
  {
   "cell_type": "markdown",
   "id": "8a4404dd-953c-4751-84e0-9962626b87e1",
   "metadata": {},
   "source": [
    "Q4. What is the ROC curve, and how is it used to evaluate the performance of the logistic regression\n",
    "model?"
   ]
  },
  {
   "cell_type": "markdown",
   "id": "eb8d809f-ba2e-41f1-976a-ba4ece9f5de3",
   "metadata": {},
   "source": [
    "The ROC curve is produced by calculating and plotting the true positive rate against the false positive rate for a single classifier at a variety of thresholds. For example, in logistic regression, the threshold would be the predicted probability of an observation belonging to the positive class."
   ]
  },
  {
   "cell_type": "code",
   "execution_count": null,
   "id": "996620e8-ef08-494a-8b17-23d4d66543cb",
   "metadata": {},
   "outputs": [],
   "source": []
  },
  {
   "cell_type": "markdown",
   "id": "0ea3adea-da42-4673-80c9-cc3bde94ee16",
   "metadata": {},
   "source": [
    "Q5. What are some common techniques for feature selection in logistic regression? How do these\n",
    "techniques help improve the model's performance?"
   ]
  },
  {
   "cell_type": "markdown",
   "id": "210f3ccd-87f9-4a57-9f57-d25ca91863c5",
   "metadata": {},
   "source": [
    "Using L1 Regularization.\n"
   ]
  },
  {
   "cell_type": "code",
   "execution_count": null,
   "id": "1551c18f-4d3d-4db8-b487-6f94b6f9f5f8",
   "metadata": {},
   "outputs": [],
   "source": []
  },
  {
   "cell_type": "markdown",
   "id": "3f811dd3-7f75-474f-adcb-70c2e0b09793",
   "metadata": {},
   "source": [
    "Q6. How can you handle imbalanced datasets in logistic regression? What are some strategies for dealing\n",
    "with class imbalance?"
   ]
  },
  {
   "cell_type": "markdown",
   "id": "0e88d95b-8ad4-4525-a7bd-417cbbcf1b2c",
   "metadata": {},
   "source": [
    "Using L2 Regularization.     \n",
    "1) up sampeling     \n",
    "2) down sampeling\n"
   ]
  },
  {
   "cell_type": "code",
   "execution_count": null,
   "id": "7173af82-f508-4d0b-9917-fb09124cbaad",
   "metadata": {},
   "outputs": [],
   "source": []
  },
  {
   "cell_type": "markdown",
   "id": "39341bfc-609d-4892-b375-598f1572f9de",
   "metadata": {},
   "source": [
    "Q7. Can you discuss some common issues and challenges that may arise when implementing logistic\n",
    "regression, and how they can be addressed? For example, what can be done if there is multicollinearity\n",
    "among the independent variables?"
   ]
  },
  {
   "cell_type": "markdown",
   "id": "49b2992f-8951-46cf-9889-d23ccf05bc0a",
   "metadata": {},
   "source": [
    "Logistic regression is an example of supervised learning. It is used to calculate or predict the probability of a binary (yes/no) event occurring. An example of logistic regression could be applying machine learning to determine if a person is likely to be infected with COVID-19 or not."
   ]
  },
  {
   "cell_type": "code",
   "execution_count": null,
   "id": "9520008c-768c-41ee-bac8-fd7f5370b1a9",
   "metadata": {},
   "outputs": [],
   "source": []
  }
 ],
 "metadata": {
  "kernelspec": {
   "display_name": "Python 3 (ipykernel)",
   "language": "python",
   "name": "python3"
  },
  "language_info": {
   "codemirror_mode": {
    "name": "ipython",
    "version": 3
   },
   "file_extension": ".py",
   "mimetype": "text/x-python",
   "name": "python",
   "nbconvert_exporter": "python",
   "pygments_lexer": "ipython3",
   "version": "3.10.8"
  }
 },
 "nbformat": 4,
 "nbformat_minor": 5
}
