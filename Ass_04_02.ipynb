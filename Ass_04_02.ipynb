{
 "cells": [
  {
   "cell_type": "markdown",
   "id": "699da36c-55e2-4a11-8c5a-2be31a460063",
   "metadata": {},
   "source": [
    "Q1. What is the purpose of grid search cv in machine learning, and how does it work?"
   ]
  },
  {
   "cell_type": "markdown",
   "id": "64785a9e-8e9c-458d-bfc8-579438912ed5",
   "metadata": {},
   "source": [
    "GridSearchCV is a technique for finding the optimal parameter values from a given set of parameters in a grid. It's essentially a cross-validation technique. The model as well as the parameters must be entered. After extracting the best parameter values, predictions are made."
   ]
  },
  {
   "cell_type": "code",
   "execution_count": null,
   "id": "567c1f12-18ec-4a70-b92d-16c33fdbb1a7",
   "metadata": {},
   "outputs": [],
   "source": []
  },
  {
   "cell_type": "markdown",
   "id": "a3142fff-c065-4bf4-81fd-f693d711be0f",
   "metadata": {},
   "source": [
    "Q2. Describe the difference between grid search cv and randomize search cv, and when might you choose\n",
    "one over the other?"
   ]
  },
  {
   "cell_type": "markdown",
   "id": "86a5559e-e07d-49d1-bf1c-377cb71718ae",
   "metadata": {},
   "source": [
    "The only difference between both the approaches is in grid search we define the combinations and do training of the model whereas in RandomizedSearchCV the model selects the combinations randomly. Both are very effective ways of tuning the parameters that increase the model generalizability."
   ]
  },
  {
   "cell_type": "code",
   "execution_count": null,
   "id": "cacbf964-bf98-4597-9d2e-83fb4c1d4631",
   "metadata": {},
   "outputs": [],
   "source": []
  },
  {
   "cell_type": "markdown",
   "id": "d2e1c047-91ce-4515-bebf-083c5ee67cb5",
   "metadata": {},
   "source": [
    "Q3. What is data leakage, and why is it a problem in machine learning? Provide an example."
   ]
  },
  {
   "cell_type": "markdown",
   "id": "647d3a0c-b66f-4577-a712-81eaff81116b",
   "metadata": {},
   "source": [
    "Data leakage is one of the major problems in machine learning which occurs when the data that we are using to train an ML algorithm has the information the model is trying to predict. It is a situation that causes unpredictable and bad prediction outcomes after model deployment.     \n",
    "The most fundamental example of data leakage would be if the true label of a dataset was included as a characteristic in the model. If this object is classified as an apple, the algorithm would learn to predict that it is an apple."
   ]
  },
  {
   "cell_type": "code",
   "execution_count": null,
   "id": "8ae677ff-5e73-444a-a4b0-189459fd0278",
   "metadata": {},
   "outputs": [],
   "source": []
  },
  {
   "cell_type": "markdown",
   "id": "14f7b42d-91b1-4213-bb14-bbf32203bfa1",
   "metadata": {},
   "source": [
    "Q4. How can you prevent data leakage when building a machine learning model?"
   ]
  },
  {
   "cell_type": "markdown",
   "id": "c6ffa4e3-041d-4127-aa85-72fef448c535",
   "metadata": {},
   "source": [
    "One of the best ways to get rid of data leakage is to perform k-fold cross validation where the overall data is divided into k parts. After dividing into k parts, we use each part as the cross-validation data and the remaining as training data."
   ]
  },
  {
   "cell_type": "code",
   "execution_count": null,
   "id": "3404a96f-1739-4214-9486-2e1ba9deef83",
   "metadata": {},
   "outputs": [],
   "source": []
  },
  {
   "cell_type": "markdown",
   "id": "288fe278-ee53-4318-9d85-0707c8b67c23",
   "metadata": {},
   "source": [
    "Q5. What is a confusion matrix, and what does it tell you about the performance of a classification model?"
   ]
  },
  {
   "cell_type": "markdown",
   "id": "e048c3a4-6fdf-4258-9030-3b022d942bd6",
   "metadata": {},
   "source": [
    "A confusion matrix is a table that allows you to visualize the performance of a classification model. You can also use the information in it to calculate measures that can help you determine the usefulness of the model. Rows represent predicted classifications, while columns represent the true classes from the data."
   ]
  },
  {
   "cell_type": "code",
   "execution_count": null,
   "id": "500dc0dd-2fd5-4271-86d2-873406e7f62e",
   "metadata": {},
   "outputs": [],
   "source": []
  },
  {
   "cell_type": "markdown",
   "id": "4ffa2e81-9419-4ebf-9146-a09ccb9f18db",
   "metadata": {},
   "source": [
    "Q6. Explain the difference between precision and recall in the context of a confusion matrix."
   ]
  },
  {
   "cell_type": "markdown",
   "id": "b99567c3-25dd-41dd-b799-96dce197bb2e",
   "metadata": {},
   "source": [
    "The precision is the proportion of relevant results in the list of all returned search results. The recall is the ratio of the relevant results returned by the search engine to the total number of the relevant results that could have been returned."
   ]
  },
  {
   "cell_type": "code",
   "execution_count": null,
   "id": "59a6398d-bba1-4d23-8c95-23ffe5ed826f",
   "metadata": {},
   "outputs": [],
   "source": []
  },
  {
   "cell_type": "markdown",
   "id": "7daf37b0-159b-416e-b20d-f1caac784e6e",
   "metadata": {},
   "source": [
    "Q7. How can you interpret a confusion matrix to determine which types of errors your model is making?"
   ]
  },
  {
   "cell_type": "markdown",
   "id": "42382fc2-dcc4-46fe-83e1-97501d00443a",
   "metadata": {},
   "source": [
    "A confusion matrix is a table that allows you to visualize the performance of a classification model. You can also use the information in it to calculate measures that can help you determine the usefulness of the model. Rows represent predicted classifications, while columns represent the true classes from the data."
   ]
  },
  {
   "cell_type": "code",
   "execution_count": null,
   "id": "91fc3e56-7ff9-4b9e-8b57-a465fa16cb40",
   "metadata": {},
   "outputs": [],
   "source": []
  },
  {
   "cell_type": "markdown",
   "id": "4a9e31ed-92b4-4d54-86ca-15fc26a66dd2",
   "metadata": {},
   "source": [
    "Q8. What are some common metrics that can be derived from a confusion matrix, and how are they\n",
    "calculated?"
   ]
  },
  {
   "cell_type": "markdown",
   "id": "3713dcf1-4ee1-42d1-9a51-03db90c423a9",
   "metadata": {},
   "source": [
    "A confusion matrix is a table that allows you to visualize the performance of a classification model. You can also use the information in it to calculate measures that can help you determine the usefulness of the model. Rows represent predicted classifications, while columns represent the true classes from the data."
   ]
  },
  {
   "cell_type": "code",
   "execution_count": null,
   "id": "2c6def85-b497-4a27-9a51-3a331a3967af",
   "metadata": {},
   "outputs": [],
   "source": []
  },
  {
   "cell_type": "markdown",
   "id": "ddde560c-dd81-4c0f-ac80-a2aea830f116",
   "metadata": {},
   "source": [
    "Q9. What is the relationship between the accuracy of a model and the values in its confusion matrix?"
   ]
  },
  {
   "cell_type": "markdown",
   "id": "968e3072-1766-4432-8361-07b7faec72cb",
   "metadata": {},
   "source": [
    "Accuracy: It gives you the overall accuracy of the model, meaning the fraction of the total samples that were correctly classified by the classifier. To calculate accuracy,    \n",
    "use the following formula: (TP+TN)/(TP+TN+FP+FN)."
   ]
  },
  {
   "cell_type": "code",
   "execution_count": null,
   "id": "dad764c7-08c7-4889-858c-2bd1d0039782",
   "metadata": {},
   "outputs": [],
   "source": []
  },
  {
   "cell_type": "markdown",
   "id": "c4a32a9a-c696-413c-bf53-3052fd27d571",
   "metadata": {},
   "source": [
    "Q10. How can you use a confusion matrix to identify potential biases or limitations in your machine learning\n",
    "model?"
   ]
  },
  {
   "cell_type": "markdown",
   "id": "fd36d57c-4e1c-4566-8d4f-1f0458831537",
   "metadata": {},
   "source": [
    "A confusion matrix is a table that allows you to visualize the performance of a classification model. You can also use the information in it to calculate measures that can help you determine the usefulness of the model. Rows represent predicted classifications, while columns represent the true classes from the data."
   ]
  },
  {
   "cell_type": "code",
   "execution_count": null,
   "id": "c491bf20-1e21-4fb2-af22-11215557c4a0",
   "metadata": {},
   "outputs": [],
   "source": []
  }
 ],
 "metadata": {
  "kernelspec": {
   "display_name": "Python 3 (ipykernel)",
   "language": "python",
   "name": "python3"
  },
  "language_info": {
   "codemirror_mode": {
    "name": "ipython",
    "version": 3
   },
   "file_extension": ".py",
   "mimetype": "text/x-python",
   "name": "python",
   "nbconvert_exporter": "python",
   "pygments_lexer": "ipython3",
   "version": "3.10.8"
  }
 },
 "nbformat": 4,
 "nbformat_minor": 5
}
