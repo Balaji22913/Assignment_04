{
 "cells": [
  {
   "cell_type": "markdown",
   "id": "c83954e0-7a03-4064-a59e-fb3496a6219d",
   "metadata": {},
   "source": [
    "Q1. Explain the concept of precision and recall in the context of classification models."
   ]
  },
  {
   "cell_type": "markdown",
   "id": "5b8c57b5-a46a-4757-b537-1e7f1ecf8b30",
   "metadata": {},
   "source": [
    "Precision measures the accuracy of positive predictions, while recall measures the completeness of positive predictions."
   ]
  },
  {
   "cell_type": "code",
   "execution_count": null,
   "id": "93d7d44d-85e5-449e-abc9-2ce2d4180fec",
   "metadata": {},
   "outputs": [],
   "source": []
  },
  {
   "cell_type": "markdown",
   "id": "1f3aa413-6f63-40b6-bd15-a1b5eb2d4d75",
   "metadata": {},
   "source": [
    "Q2. What is the F1 score and how is it calculated? How is it different from precision and recall?"
   ]
  },
  {
   "cell_type": "markdown",
   "id": "e3c1106a-3ce8-49b4-9efe-4891ca31347d",
   "metadata": {},
   "source": [
    "F1-Score is a measure combining both precision and recall. It is generally described as the harmonic mean of the two. Harmonic mean is just another way to calculate an “average” of values, generally described as more suitable for ratios (such as precision and recall) than the traditional arithmetic mean.       \n",
    "F1 score is a weighted average of precision and recall. As we know in precision and in recall there is false positive and false negative so it also consider both of them. F1 score is usually more useful than accuracy, especially if you have an uneven class distribution."
   ]
  },
  {
   "cell_type": "code",
   "execution_count": null,
   "id": "ccee8f82-d5d0-4a50-b1a0-f82415264e79",
   "metadata": {},
   "outputs": [],
   "source": []
  },
  {
   "cell_type": "markdown",
   "id": "10bb4ecc-1f6e-454c-a0f8-cbd62827d67e",
   "metadata": {},
   "source": [
    "Q3. What is ROC and AUC, and how are they used to evaluate the performance of classification models?"
   ]
  },
  {
   "cell_type": "markdown",
   "id": "e8989147-14c0-4e3c-ac18-3455d76656a0",
   "metadata": {},
   "source": [
    "ROC is a probability curve and AUC represents the degree or measure of separability. It tells how much the model is capable of distinguishing between classes. Higher the AUC, the better the model is at predicting 0 classes as 0 and 1 classes as 1."
   ]
  },
  {
   "cell_type": "code",
   "execution_count": null,
   "id": "7d03f902-b769-45d7-bc4d-5dd72e96fbcf",
   "metadata": {},
   "outputs": [],
   "source": []
  },
  {
   "cell_type": "markdown",
   "id": "7ac473b8-013b-4b1b-b9c6-2b77dd94c783",
   "metadata": {},
   "source": [
    "Q4. How do you choose the best metric to evaluate the performance of a classification model?"
   ]
  },
  {
   "cell_type": "markdown",
   "id": "f952695c-ffc4-4033-a3b6-fe8f68494c55",
   "metadata": {},
   "source": [
    "Metrics like accuracy, precision, recall are good ways to evaluate classification models for balanced datasets, but if the data is imbalanced then other methods like ROC/AUC perform better in evaluating the model performance."
   ]
  },
  {
   "cell_type": "code",
   "execution_count": null,
   "id": "daae10ad-b4ea-48f6-a903-c0028e186d34",
   "metadata": {},
   "outputs": [],
   "source": []
  },
  {
   "cell_type": "markdown",
   "id": "5f7e9e25-cbd9-4b8c-ad92-5ed39fc47ed3",
   "metadata": {},
   "source": [
    "Q5. Explain how logistic regression can be used for multiclass classification."
   ]
  },
  {
   "cell_type": "markdown",
   "id": "5a78bfd7-22c3-4af5-b438-e9ed2ec847b6",
   "metadata": {},
   "source": [
    "Logistic regression, by default, is limited to two-class classification problems. Some extensions like one-vs-rest can allow logistic regression to be used for multi-class classification problems, although they require that the classification problem first be transformed into multiple binary classification problems."
   ]
  },
  {
   "cell_type": "code",
   "execution_count": null,
   "id": "e8e4abb6-0eac-4438-9250-9f2e3927a223",
   "metadata": {},
   "outputs": [],
   "source": []
  },
  {
   "cell_type": "markdown",
   "id": "b80e4056-5b46-4a23-9472-d9ea9c1a42cc",
   "metadata": {},
   "source": [
    "Q6. Describe the steps involved in an end-to-end project for multiclass classification."
   ]
  },
  {
   "cell_type": "markdown",
   "id": "e72258ba-ed39-4e52-ac54-fc731038bfcf",
   "metadata": {},
   "source": [
    "Data collection -> Data Cleaning -> EDA -> "
   ]
  },
  {
   "cell_type": "code",
   "execution_count": null,
   "id": "2cedc165-1dd0-4820-bbfc-722bf07fd336",
   "metadata": {},
   "outputs": [],
   "source": []
  },
  {
   "cell_type": "markdown",
   "id": "3261bd4a-732a-430d-9916-ef17acf12190",
   "metadata": {},
   "source": [
    "Q7. What is model deployment and why is it important?"
   ]
  },
  {
   "cell_type": "markdown",
   "id": "9b8cb2da-a035-46c6-b986-b8bc9610cef4",
   "metadata": {},
   "source": [
    "Model deployment is the process of putting machine learning models into production. This makes the model's predictions available to users, developers or systems, so they can make business decisions based on data, interact with their application (like recognize a face in an image) and so on."
   ]
  },
  {
   "cell_type": "code",
   "execution_count": null,
   "id": "9d3145be-d538-4c88-b21a-feb106e54f32",
   "metadata": {},
   "outputs": [],
   "source": []
  },
  {
   "cell_type": "markdown",
   "id": "7fda96c2-d856-45de-8173-cfb41d5928df",
   "metadata": {},
   "source": [
    "Q8. Explain how multi-cloud platforms are used for model deployment."
   ]
  },
  {
   "cell_type": "markdown",
   "id": "53d578c4-e386-4101-a8d4-4ba4d744af64",
   "metadata": {},
   "source": [
    "Multi-cloud deployments have a number of uses. A multi-cloud deployment can leverage multiple IaaS (infrastructure-as-a-service) vendors, or it could use a different vendor for IaaS, PaaS (platform-as-a-service), and SaaS (software-as-a-service) services. Multi-cloud can be purely for the purpose of redundancy and system backup, or it can incorporate different cloud vendors for different services."
   ]
  },
  {
   "cell_type": "code",
   "execution_count": null,
   "id": "ba6fe18a-1814-45ba-b93e-8db47460bdce",
   "metadata": {},
   "outputs": [],
   "source": []
  },
  {
   "cell_type": "markdown",
   "id": "d2083d41-d306-4cc3-92ce-db6a2704ccdd",
   "metadata": {},
   "source": [
    "Q9. Discuss the benefits and challenges of deploying machine learning models in a multi-cloud\n",
    "environment."
   ]
  },
  {
   "cell_type": "markdown",
   "id": "847d2485-2a31-4f52-b7b2-39365ea152cb",
   "metadata": {},
   "source": [
    "The cloud offers advantages to developers in deploying applications and data, because developers can allocate capacity from the cloud's shared pool of resources rather than being limited to an in-house system. This permits greater scalability, elasticity, and enhanced management.       \n",
    "There are challenges in using cloud resources, however: \n",
    "\n",
    "1) If a power failure or server crash occurs, a developer could lose all the instances of her application. \n",
    "2) Various firewall settings or security policies could cause connectivity issues with internal networks. \n",
    "3) Managing logins for multiple developers or team members becomes more complicated."
   ]
  },
  {
   "cell_type": "code",
   "execution_count": null,
   "id": "9f49859e-8ded-4f9b-a4d1-43cb5ba41839",
   "metadata": {},
   "outputs": [],
   "source": []
  }
 ],
 "metadata": {
  "kernelspec": {
   "display_name": "Python 3 (ipykernel)",
   "language": "python",
   "name": "python3"
  },
  "language_info": {
   "codemirror_mode": {
    "name": "ipython",
    "version": 3
   },
   "file_extension": ".py",
   "mimetype": "text/x-python",
   "name": "python",
   "nbconvert_exporter": "python",
   "pygments_lexer": "ipython3",
   "version": "3.10.8"
  }
 },
 "nbformat": 4,
 "nbformat_minor": 5
}
