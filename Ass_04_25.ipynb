{
 "cells": [
  {
   "cell_type": "markdown",
   "id": "2a4c7aea-e45e-4bd6-a488-c9efb2e9cf26",
   "metadata": {},
   "source": [
    "Q1. What are Eigenvalues and Eigenvectors? How are they related to the Eigen-Decomposition approach?\n",
    "Explain with an example."
   ]
  },
  {
   "cell_type": "markdown",
   "id": "12414f86-6c56-4baf-905a-d61cba68a90d",
   "metadata": {},
   "source": [
    "Eigenvalues are the special set of scalar values that is associated with the set of linear equations most probably in the matrix equations. The eigenvectors are also termed as characteristic roots. It is a non-zero vector that can be changed at most by its scalar factor after the application of linear transformations."
   ]
  },
  {
   "cell_type": "code",
   "execution_count": null,
   "id": "e0a6fd8d-de15-4ff9-a16b-cea2726eb6d0",
   "metadata": {},
   "outputs": [],
   "source": []
  },
  {
   "cell_type": "markdown",
   "id": "8254f70a-0e1f-4e01-ac0a-77410671f720",
   "metadata": {},
   "source": [
    "Q2. What is eigen decomposition and what is its significance in linear algebra?"
   ]
  },
  {
   "cell_type": "markdown",
   "id": "8f9626d9-d30a-4318-8fbd-3cf552fc1b7d",
   "metadata": {},
   "source": [
    "Eigendecomposition provides us with a tool to decompose a matrix by discovering the eigenvalues and the eigenvectors. This operation can prove useful since it allows certain matrix operations to be easier to perform and it also tells us important facts about the matrix itself."
   ]
  },
  {
   "cell_type": "code",
   "execution_count": null,
   "id": "64286080-4bdb-49ad-bb6a-8f4c7ffe9526",
   "metadata": {},
   "outputs": [],
   "source": []
  },
  {
   "cell_type": "markdown",
   "id": "4869522a-dd98-494f-808d-c7f070d36a93",
   "metadata": {},
   "source": [
    "Q3. What are the conditions that must be satisfied for a square matrix to be diagonalizable using the\n",
    "Eigen-Decomposition approach? Provide a brief proof to support your answer."
   ]
  },
  {
   "cell_type": "markdown",
   "id": "28de54ca-fe57-48b0-a13d-c05fa0dd7e0c",
   "metadata": {},
   "source": [
    "A matrix is diagonalizable if and only if its nilpotent part is zero. Put in another way, a matrix is diagonalizable if each block in its Jordan form has no nilpotent part; i.e., one-by-one matrix."
   ]
  },
  {
   "cell_type": "code",
   "execution_count": null,
   "id": "b71dc8f3-6b67-4ac3-9fcf-55d4fe305cae",
   "metadata": {},
   "outputs": [],
   "source": []
  },
  {
   "cell_type": "markdown",
   "id": "e3bf8af1-8270-4f8f-9b52-121d4c859641",
   "metadata": {},
   "source": [
    "Q4. What is the significance of the spectral theorem in the context of the Eigen-Decomposition approach?\n",
    "How is it related to the diagonalizability of a matrix? Explain with an example."
   ]
  },
  {
   "cell_type": "markdown",
   "id": "724d0ed2-1a2b-4900-8fce-3972a6ced21d",
   "metadata": {},
   "source": [
    "The spectral theorem provides a sufficient criterion for the existence of a particular canonical form. Specifically, the spectral theorem states that if M equals the transpose of M, then M is diagonalizable: there exists an invertible matrix C such that C − 1 M C C^{-1} MC C−1MC is a diagonal matrix."
   ]
  },
  {
   "cell_type": "code",
   "execution_count": null,
   "id": "f57c9d09-ce85-48fa-bbd0-2da089aa8f7e",
   "metadata": {},
   "outputs": [],
   "source": []
  },
  {
   "cell_type": "markdown",
   "id": "68d27903-2e92-428a-9195-6e8ec8195997",
   "metadata": {},
   "source": [
    "Q5. How do you find the eigenvalues of a matrix and what do they represent?"
   ]
  },
  {
   "cell_type": "markdown",
   "id": "f2598d8c-b2dc-4fa8-b8c4-d9625f1e642a",
   "metadata": {},
   "source": [
    "Take the identity matrix I whose order is the same as A.         \n",
    "Multiply every element of I by λ to get λI.            \n",
    "Subtract λI from A to get A - λI.           \n",
    "Find its determinant.            \n",
    "Set the determinant to zero and solve for λ.           \n",
    "Eigenvalues represent the scaling factor by which a vector is transformed when a linear transformation is applied,"
   ]
  },
  {
   "cell_type": "code",
   "execution_count": null,
   "id": "c53504f8-dd0d-4085-a013-f0ffa6bcc7f1",
   "metadata": {},
   "outputs": [],
   "source": []
  },
  {
   "cell_type": "markdown",
   "id": "5c93b43f-8659-4e96-a601-a6ed0dd72a75",
   "metadata": {},
   "source": [
    "Q6. What are eigenvectors and how are they related to eigenvalues?"
   ]
  },
  {
   "cell_type": "markdown",
   "id": "b09d6b3d-0f74-415f-b902-be0f1c538fc3",
   "metadata": {},
   "source": [
    "Eigenvalues are the special set of scalar values that is associated with the set of linear equations most probably in the matrix equations. The eigenvectors are also termed as characteristic roots. It is a non-zero vector that can be changed at most by its scalar factor after the application of linear transformations."
   ]
  },
  {
   "cell_type": "code",
   "execution_count": null,
   "id": "455961cc-a61b-4bab-90df-3bc4f0712356",
   "metadata": {},
   "outputs": [],
   "source": []
  },
  {
   "cell_type": "markdown",
   "id": "1452368c-d4c3-40cf-b024-faadaf4d247a",
   "metadata": {},
   "source": [
    "Q7. Can you explain the geometric interpretation of eigenvectors and eigenvalues?"
   ]
  },
  {
   "cell_type": "markdown",
   "id": "4300f89f-40dd-4601-8af6-120855739364",
   "metadata": {},
   "source": [
    "Geometrically, a transformation matrix rotates, stretches, or shears the vectors it acts upon. An eigenvector, corresponding to a real nonzero eigenvalue for that matrix, points in a direction in which it is stretched by the transformation, and is neither rotated nor sheared."
   ]
  },
  {
   "cell_type": "code",
   "execution_count": null,
   "id": "82a9bc3a-86b9-48e0-af45-43e75145fe0f",
   "metadata": {},
   "outputs": [],
   "source": []
  },
  {
   "cell_type": "markdown",
   "id": "172eaea1-6b01-47f7-bdd3-cca0d64234ca",
   "metadata": {},
   "source": [
    "Q8. What are some real-world applications of eigen decomposition?"
   ]
  },
  {
   "cell_type": "markdown",
   "id": "b25387f9-05a5-43f6-b58e-0279a78ba768",
   "metadata": {},
   "source": [
    "It is used in car design especially car stereo system and also in decoupling three phase system. Eigendecomposition is particularly useful for analysing the structure of the data matrix in terms of the eigenvalues and eigenvectors."
   ]
  },
  {
   "cell_type": "code",
   "execution_count": null,
   "id": "4605b5fa-fb81-477e-9247-6d7b1ae2448d",
   "metadata": {},
   "outputs": [],
   "source": []
  },
  {
   "cell_type": "markdown",
   "id": "671f4275-5636-469f-b91e-08d358157529",
   "metadata": {},
   "source": [
    "Q9. Can a matrix have more than one set of eigenvectors and eigenvalues?"
   ]
  },
  {
   "cell_type": "markdown",
   "id": "89c3137f-c6bc-4053-8769-8e271f196d21",
   "metadata": {},
   "source": [
    "So a square matrix A of order n will not have more than n eigenvalues and every eigenvalue has infinitely many eigenvectors."
   ]
  },
  {
   "cell_type": "code",
   "execution_count": null,
   "id": "3c73fe4b-9295-40cb-91d7-3f9fa261eeeb",
   "metadata": {},
   "outputs": [],
   "source": []
  },
  {
   "cell_type": "markdown",
   "id": "b0b3c2a9-a9e1-4c5e-831a-72f35f4b0f32",
   "metadata": {},
   "source": [
    "Q10. In what ways is the Eigen-Decomposition approach useful in data analysis and machine learning?\n",
    "Discuss at least three specific applications or techniques that rely on Eigen-Decomposition."
   ]
  },
  {
   "cell_type": "markdown",
   "id": "e657a9fb-84e3-4ad9-a32b-bc39af78cc0a",
   "metadata": {},
   "source": [
    "In linear algebra, eigendecomposition is the factorization of a matrix into a canonical form, whereby the matrix is represented in terms of its eigenvalues and eigenvectors. Only diagonalizable matrices can be factorized in this way."
   ]
  },
  {
   "cell_type": "markdown",
   "id": "1a22ad4e-ad4e-419f-86b8-ae4272d8406a",
   "metadata": {},
   "source": [
    "Eigendecomposition is used to decompose a matrix into eigenvectors and eigenvalues which are eventually applied in methods used in machine learning, such as in the Principal Component Analysis method or PCA. Decomposing a matrix in terms of its eigenvalues and its eigenvectors gives valuable insights into the properties of the matrix."
   ]
  },
  {
   "cell_type": "code",
   "execution_count": null,
   "id": "12eacf79-e208-4da2-9c20-1a3efba13ecf",
   "metadata": {},
   "outputs": [],
   "source": []
  }
 ],
 "metadata": {
  "kernelspec": {
   "display_name": "Python 3 (ipykernel)",
   "language": "python",
   "name": "python3"
  },
  "language_info": {
   "codemirror_mode": {
    "name": "ipython",
    "version": 3
   },
   "file_extension": ".py",
   "mimetype": "text/x-python",
   "name": "python",
   "nbconvert_exporter": "python",
   "pygments_lexer": "ipython3",
   "version": "3.10.8"
  }
 },
 "nbformat": 4,
 "nbformat_minor": 5
}
