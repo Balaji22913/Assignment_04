{
 "cells": [
  {
   "cell_type": "markdown",
   "id": "ca8d99f0-2bd2-4e1b-bf0c-541172be6639",
   "metadata": {},
   "source": [
    "Q1. Describe the decision tree classifier algorithm and how it works to make predictions."
   ]
  },
  {
   "cell_type": "markdown",
   "id": "3b40e575-ee88-4b91-bd5f-6390a51409d9",
   "metadata": {},
   "source": [
    "A decision tree algorithm is a machine learning algorithm that uses a decision tree to make predictions. It follows a tree-like model of decisions and their possible consequences. The algorithm works by recursively splitting the data into subsets based on the most significant feature at each node of the tree."
   ]
  },
  {
   "cell_type": "code",
   "execution_count": null,
   "id": "f2703782-8f23-4656-aecf-900e8a514e00",
   "metadata": {},
   "outputs": [],
   "source": []
  },
  {
   "cell_type": "markdown",
   "id": "f6ebc6d4-5437-421a-bbe9-f0ae214545a1",
   "metadata": {},
   "source": [
    "Q2. Provide a step-by-step explanation of the mathematical intuition behind decision tree classification."
   ]
  },
  {
   "cell_type": "markdown",
   "id": "475afd7d-0e6a-4ddf-8ae7-d0d4538b8b34",
   "metadata": {},
   "source": [
    "Root Node:The first split which decides the entire population or sample data should further get divided into two or more homogeneous sets. In our case, the Outlook node.\n",
    "Splitting:It is a process of dividing a node into two or more sub-nodes.\n",
    "Decision Node:This node decides whether/when a sub-node splits into further sub-nodes or not. Here we have, Outlook node, Humidity node, and Windy node.\n",
    "Leaf:Terminal Node that predicts the outcome (categorical or continuous value). The coloured nodes, i.e., Yes and No nodes, are the leaves."
   ]
  },
  {
   "cell_type": "code",
   "execution_count": null,
   "id": "7b16321e-751b-4f6a-a77b-1d9d55735d78",
   "metadata": {},
   "outputs": [],
   "source": []
  },
  {
   "cell_type": "markdown",
   "id": "ec83ff0c-1017-41fc-bab2-8db577edc294",
   "metadata": {},
   "source": [
    "Q3. Explain how a decision tree classifier can be used to solve a binary classification problem."
   ]
  },
  {
   "cell_type": "markdown",
   "id": "ca1e11c9-8ee6-4584-ab82-19039126351d",
   "metadata": {},
   "source": [
    "A decision tree is a sequential diagram-like tree structure, where every internal node (non-leaf node) indicates a test on an attribute, each branch defines a result of the test, and each leaf node (or terminal node) influence a class label. The highest node in a tree is the root node."
   ]
  },
  {
   "cell_type": "code",
   "execution_count": null,
   "id": "b703dccb-4467-43d7-9758-24a97b102840",
   "metadata": {},
   "outputs": [],
   "source": []
  },
  {
   "cell_type": "markdown",
   "id": "707b7ebc-43c0-4331-a329-4d48fea1cafb",
   "metadata": {},
   "source": [
    "Q4. Discuss the geometric intuition behind decision tree classification and how it can be used to make\n",
    "predictions."
   ]
  },
  {
   "cell_type": "markdown",
   "id": "14c7b3c7-de6f-4297-9476-dfb51dafcbd6",
   "metadata": {},
   "source": [
    "The best fit line is first found and the normal is drawn from the starting of best fit line. Then the angle is measered made by the points with the normal of best fit line. If the angle is greater than 90 degree, it is negative and else, it is positive."
   ]
  },
  {
   "cell_type": "code",
   "execution_count": null,
   "id": "c208b66c-5c31-440d-9f42-11f76f51316d",
   "metadata": {},
   "outputs": [],
   "source": []
  },
  {
   "cell_type": "markdown",
   "id": "1046ecab-171b-446d-8ca1-aef6df67edca",
   "metadata": {},
   "source": [
    "Q5. Define the confusion matrix and describe how it can be used to evaluate the performance of a\n",
    "classification model."
   ]
  },
  {
   "cell_type": "markdown",
   "id": "777c17ed-2a58-4417-8b5c-1f26c79c9693",
   "metadata": {},
   "source": [
    "A confusion matrix is a table that allows you to visualize the performance of a classification model. You can also use the information in it to calculate measures that can help you determine the usefulness of the model. Rows represent predicted classifications, while columns represent the true classes from the data."
   ]
  },
  {
   "cell_type": "code",
   "execution_count": null,
   "id": "c7a982eb-8e92-4a66-ae25-3d18c8b2464a",
   "metadata": {},
   "outputs": [],
   "source": []
  },
  {
   "cell_type": "markdown",
   "id": "b2ae550d-f9ee-412b-8043-bd4abb1a4f24",
   "metadata": {},
   "source": [
    "Q6. Provide an example of a confusion matrix and explain how precision, recall, and F1 score can be\n",
    "calculated from it."
   ]
  },
  {
   "cell_type": "markdown",
   "id": "e7ace4dd-31f2-409d-8905-4cf24d17d729",
   "metadata": {},
   "source": [
    "Precision = True Positive / All Predicted Positives * 100%     \n",
    "\n",
    "Recall - True Positive / True Positive + False Negative     \n",
    "\n",
    "F1 Score = 2 * Precision * Recall / Precision + Recall"
   ]
  },
  {
   "cell_type": "markdown",
   "id": "ee8c47c8-ff6e-4dbe-8b07-3e11ae6528b5",
   "metadata": {},
   "source": [
    "[[107  17]       \n",
    " [ 16 110]]"
   ]
  },
  {
   "cell_type": "code",
   "execution_count": null,
   "id": "39e6d895-a859-4778-b241-dc0bf2991487",
   "metadata": {},
   "outputs": [],
   "source": []
  },
  {
   "cell_type": "markdown",
   "id": "4440601c-8018-45e3-90ca-fdac41c14841",
   "metadata": {},
   "source": [
    "Q7. Discuss the importance of choosing an appropriate evaluation metric for a classification problem and\n",
    "explain how this can be done."
   ]
  },
  {
   "cell_type": "markdown",
   "id": "208a8ba4-a6a0-49c7-b6b7-de0d3cd39e76",
   "metadata": {},
   "source": [
    "Metrics like accuracy, precision, recall are good ways to evaluate classification models for balanced datasets, but if the data is imbalanced then other methods like ROC/AUC perform better in evaluating the model performance."
   ]
  },
  {
   "cell_type": "code",
   "execution_count": null,
   "id": "b472d296-cad9-47f7-85a2-bb186cb6b94c",
   "metadata": {},
   "outputs": [],
   "source": []
  },
  {
   "cell_type": "markdown",
   "id": "56ddf804-5622-4ecb-b837-8e7334c6e1e4",
   "metadata": {},
   "source": [
    "Q8. Provide an example of a classification problem where precision is the most important metric, and\n",
    "explain why."
   ]
  },
  {
   "cell_type": "markdown",
   "id": "691abce9-54bd-4b5a-9d7f-b4b65ee15b42",
   "metadata": {},
   "source": [
    "Email Spam detection:This is one of the example where Precision is more important than Recall. Quick Recap: Precision: This tells when you predict something positive, how many times they were actually positive."
   ]
  },
  {
   "cell_type": "code",
   "execution_count": null,
   "id": "a8fac84f-062c-4cb8-a204-20ae09f36aed",
   "metadata": {},
   "outputs": [],
   "source": []
  },
  {
   "cell_type": "markdown",
   "id": "b3bd61e1-c2ab-4761-b076-b63e938e6e65",
   "metadata": {},
   "source": [
    "Q9. Provide an example of a classification problem where recall is the most important metric, and explain\n",
    "why."
   ]
  },
  {
   "cell_type": "markdown",
   "id": "7bcb1325-01d4-4e04-a810-93226ddb2d00",
   "metadata": {},
   "source": [
    "Another example would be hiring when there are a lot of similar candidates. Recall is more important than precision when the cost of acting is low, but the opportunity cost of passing up on a candidate is high."
   ]
  },
  {
   "cell_type": "code",
   "execution_count": null,
   "id": "6bd69e3c-f416-4d02-b62a-41d36ae53074",
   "metadata": {},
   "outputs": [],
   "source": []
  }
 ],
 "metadata": {
  "kernelspec": {
   "display_name": "Python 3 (ipykernel)",
   "language": "python",
   "name": "python3"
  },
  "language_info": {
   "codemirror_mode": {
    "name": "ipython",
    "version": 3
   },
   "file_extension": ".py",
   "mimetype": "text/x-python",
   "name": "python",
   "nbconvert_exporter": "python",
   "pygments_lexer": "ipython3",
   "version": "3.10.8"
  }
 },
 "nbformat": 4,
 "nbformat_minor": 5
}
