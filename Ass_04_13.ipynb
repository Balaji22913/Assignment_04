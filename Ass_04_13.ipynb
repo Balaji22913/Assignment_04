{
 "cells": [
  {
   "cell_type": "markdown",
   "id": "70e09535-88a6-47f5-847e-d9c165da3e3c",
   "metadata": {},
   "source": [
    "Q1. What is Random Forest Regressor?"
   ]
  },
  {
   "cell_type": "markdown",
   "id": "1f434482-365b-4e1f-a5c4-ff1ff0e5ed7a",
   "metadata": {},
   "source": [
    "Random Forest Regression is a supervised learning algorithm that uses ensemble learning method for regression. Ensemble learning method is a technique that combines predictions from multiple machine learning algorithms to make a more accurate prediction than a single model."
   ]
  },
  {
   "cell_type": "code",
   "execution_count": null,
   "id": "86ffd5aa-fa44-4c0c-a72f-d670df13fd25",
   "metadata": {},
   "outputs": [],
   "source": []
  },
  {
   "cell_type": "markdown",
   "id": "74e3b8b3-78c7-47a9-945d-639909c1ae8a",
   "metadata": {},
   "source": [
    "Q2. How does Random Forest Regressor reduce the risk of overfitting?"
   ]
  },
  {
   "cell_type": "markdown",
   "id": "c41afc59-aac2-4ed7-adea-1499eacc5b21",
   "metadata": {},
   "source": [
    "Random forests deals with the problem of overfitting by creating multiple trees, with each tree trained slightly differently so it overfits differently. Random forests is a classifier that combines a large number of decision trees. The decisions of each tree are then combined to make the final classification."
   ]
  },
  {
   "cell_type": "code",
   "execution_count": null,
   "id": "88f96d31-1ed7-4546-8e4b-f51303f3d1b2",
   "metadata": {},
   "outputs": [],
   "source": []
  },
  {
   "cell_type": "markdown",
   "id": "03ba651b-a2a7-4515-925c-3925dab7155c",
   "metadata": {},
   "source": [
    "Q3. How does Random Forest Regressor aggregate the predictions of multiple decision trees?"
   ]
  },
  {
   "cell_type": "markdown",
   "id": "8c40818a-56b7-4071-affe-649c635426e7",
   "metadata": {},
   "source": [
    "Random forest takes advantage of this by allowing each individual tree to randomly sample from the dataset with replacement, resulting in different trees. This process is known as bagging. Notice that with bagging we are not subsetting the training data into smaller chunks and training each tree on a different chunk."
   ]
  },
  {
   "cell_type": "code",
   "execution_count": null,
   "id": "dd4bd3d0-22b3-4be4-be8c-a5af5db6bd44",
   "metadata": {},
   "outputs": [],
   "source": []
  },
  {
   "cell_type": "markdown",
   "id": "9366b671-e753-4fd8-9df8-343c6de4b4e1",
   "metadata": {},
   "source": [
    "Q4. What are the hyperparameters of Random Forest Regressor?"
   ]
  },
  {
   "cell_type": "markdown",
   "id": "8997793d-51ce-4cee-8fa8-7c66f786cad4",
   "metadata": {},
   "source": [
    "In random forest, the hyperparameters are the number of trees, number of features and the type of trees (such as GBM or M5). The number of features is important and should be tuned. In this case, random forest is useful because it automatically tunes the number of features."
   ]
  },
  {
   "cell_type": "code",
   "execution_count": null,
   "id": "d7d22ed7-e94d-4e7f-8f42-1cd101de1703",
   "metadata": {},
   "outputs": [],
   "source": []
  },
  {
   "cell_type": "markdown",
   "id": "748de8f2-68ae-4a5c-a699-e840338ac186",
   "metadata": {},
   "source": [
    "Q5. What is the difference between Random Forest Regressor and Decision Tree Regressor?"
   ]
  },
  {
   "cell_type": "markdown",
   "id": "9d8e8b6c-6dca-4d35-80d4-9df1cf054272",
   "metadata": {},
   "source": [
    "A decision tree combines some decisions, whereas a random forest combines several decision trees. Thus, it is a long process, yet slow. Whereas, a decision tree is fast and operates easily on large data sets, especially the linear one. The random forest model needs rigorous training."
   ]
  },
  {
   "cell_type": "code",
   "execution_count": null,
   "id": "bf58c2b0-1f59-4210-bc02-896a7322f8e6",
   "metadata": {},
   "outputs": [],
   "source": []
  },
  {
   "cell_type": "markdown",
   "id": "d8c7dc9b-1f12-4e1e-80e7-baf0eef26b25",
   "metadata": {},
   "source": [
    "Q6. What are the advantages and disadvantages of Random Forest Regressor?"
   ]
  },
  {
   "cell_type": "markdown",
   "id": "e7d08b42-7d7b-4c0f-97aa-01857cd82549",
   "metadata": {},
   "source": [
    "Advantages of random forest            \n",
    "It can perform both regression and classification tasks.             \n",
    "A random forest produces good predictions that can be understood easily.            \n",
    "It can handle large datasets efficiently.               \n",
    "The random forest algorithm provides a higher level of accuracy in predicting outcomes over the decision tree algorithm.          \n",
    "\n",
    "Disadvantages of Random Forest\n",
    "\n",
    "The main limitation of random forest is that a large number of trees can make the algorithm too slow and ineffective for real-time predictions. In general, these algorithms are fast to train, but quite slow to create predictions once they are trained."
   ]
  },
  {
   "cell_type": "code",
   "execution_count": null,
   "id": "e70a7f00-c912-4ca9-9c0f-0b8ad0e6dcaa",
   "metadata": {},
   "outputs": [],
   "source": []
  },
  {
   "cell_type": "markdown",
   "id": "8e4a04be-dd6a-44c3-84fc-067679187d19",
   "metadata": {},
   "source": [
    "Q7. What is the output of Random Forest Regressor?"
   ]
  },
  {
   "cell_type": "markdown",
   "id": "24df80ac-3d2f-4280-976a-fc7da812dfe5",
   "metadata": {},
   "source": [
    "For classification tasks, the output of the random forest is the class selected by most trees. For regression tasks, the mean or average prediction of the individual trees is returned. Random decision forests correct for decision trees' habit of overfitting to their training set."
   ]
  },
  {
   "cell_type": "code",
   "execution_count": null,
   "id": "5319e3cb-2c75-41b2-9759-d693300637a0",
   "metadata": {},
   "outputs": [],
   "source": []
  },
  {
   "cell_type": "markdown",
   "id": "3f727f70-6ff2-4652-bd7b-f1bcca6b685f",
   "metadata": {},
   "source": [
    "Q8. Can Random Forest Regressor be used for classification tasks?"
   ]
  },
  {
   "cell_type": "markdown",
   "id": "7140c7d9-3173-4029-ab64-d339811a38d8",
   "metadata": {},
   "source": [
    "Random Forest is a popular machine learning algorithm used for classification and regression tasks due to its high accuracy, robustness, feature importance, versatility, and scalability."
   ]
  },
  {
   "cell_type": "code",
   "execution_count": null,
   "id": "df239161-0760-4031-b060-b79148963564",
   "metadata": {},
   "outputs": [],
   "source": []
  }
 ],
 "metadata": {
  "kernelspec": {
   "display_name": "Python 3 (ipykernel)",
   "language": "python",
   "name": "python3"
  },
  "language_info": {
   "codemirror_mode": {
    "name": "ipython",
    "version": 3
   },
   "file_extension": ".py",
   "mimetype": "text/x-python",
   "name": "python",
   "nbconvert_exporter": "python",
   "pygments_lexer": "ipython3",
   "version": "3.10.8"
  }
 },
 "nbformat": 4,
 "nbformat_minor": 5
}
